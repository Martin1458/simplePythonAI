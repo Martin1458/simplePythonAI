{
 "cells": [
  {
   "cell_type": "markdown",
   "metadata": {},
   "source": [
    "Import important modules"
   ]
  },
  {
   "cell_type": "code",
   "execution_count": 4,
   "metadata": {},
   "outputs": [],
   "source": [
    "import numpy as np\n",
    "import tensorflow as tf\n",
    "from sklearn.model_selection import train_test_split"
   ]
  },
  {
   "cell_type": "markdown",
   "metadata": {},
   "source": [
    "Creating data"
   ]
  },
  {
   "cell_type": "code",
   "execution_count": 5,
   "metadata": {},
   "outputs": [],
   "source": [
    "input_list = np.random.randint(0, 40000, (5000, 2))\n",
    "\n",
    "sum_input_list = np.sum(input_list, axis=1)\n",
    "\n",
    "output_list = np.array([[sum_input_list[i]] for i in range(sum_input_list.shape[0])])"
   ]
  },
  {
   "cell_type": "markdown",
   "metadata": {},
   "source": [
    "Splitting data into training and testing"
   ]
  },
  {
   "cell_type": "code",
   "execution_count": 6,
   "metadata": {},
   "outputs": [],
   "source": [
    "input_list_train, input_list_test, output_list_train, output_list_test = train_test_split(input_list, output_list, test_size=0.2)"
   ]
  },
  {
   "cell_type": "markdown",
   "metadata": {},
   "source": [
    "Defining keras model"
   ]
  },
  {
   "cell_type": "code",
   "execution_count": 7,
   "metadata": {},
   "outputs": [],
   "source": [
    "model = tf.keras.Sequential([\n",
    "    tf.keras.layers.Dense(16, activation='relu', input_shape=(2,)),\n",
    "    tf.keras.layers.Dense(16, activation='relu'),\n",
    "    tf.keras.layers.Dense(1)\n",
    "])"
   ]
  },
  {
   "cell_type": "markdown",
   "metadata": {},
   "source": [
    "Compiling the model"
   ]
  },
  {
   "cell_type": "code",
   "execution_count": 8,
   "metadata": {},
   "outputs": [],
   "source": [
    "model.compile(optimizer='adam', loss='mean_squared_error')"
   ]
  },
  {
   "cell_type": "markdown",
   "metadata": {},
   "source": [
    "Training the model"
   ]
  },
  {
   "cell_type": "code",
   "execution_count": 9,
   "metadata": {},
   "outputs": [
    {
     "name": "stdout",
     "output_type": "stream",
     "text": [
      "Epoch 1/10\n",
      "1250/1250 [==============================] - 2s 835us/step - loss: 110107232.0000\n",
      "Epoch 2/10\n",
      "1250/1250 [==============================] - 1s 824us/step - loss: 111003.5469\n",
      "Epoch 3/10\n",
      "1250/1250 [==============================] - 1s 814us/step - loss: 20737.2695\n",
      "Epoch 4/10\n",
      "1250/1250 [==============================] - 1s 817us/step - loss: 4166.3828\n",
      "Epoch 5/10\n",
      "1250/1250 [==============================] - 1s 821us/step - loss: 2633.0920\n",
      "Epoch 6/10\n",
      "1250/1250 [==============================] - 1s 827us/step - loss: 2262.6138\n",
      "Epoch 7/10\n",
      "1250/1250 [==============================] - 1s 807us/step - loss: 1862.8600\n",
      "Epoch 8/10\n",
      "1250/1250 [==============================] - 1s 819us/step - loss: 4354.0381\n",
      "Epoch 9/10\n",
      "1250/1250 [==============================] - 1s 814us/step - loss: 2262.1631\n",
      "Epoch 10/10\n",
      "1250/1250 [==============================] - 1s 810us/step - loss: 3010.1917\n"
     ]
    },
    {
     "data": {
      "text/plain": [
       "<keras.callbacks.History at 0x18935d5d950>"
      ]
     },
     "execution_count": 9,
     "metadata": {},
     "output_type": "execute_result"
    }
   ],
   "source": [
    "model.fit(input_list, output_list, epochs=10, batch_size=4)"
   ]
  },
  {
   "cell_type": "markdown",
   "metadata": {},
   "source": [
    "Making predictions with our new model"
   ]
  },
  {
   "cell_type": "code",
   "execution_count": 10,
   "metadata": {},
   "outputs": [
    {
     "name": "stdout",
     "output_type": "stream",
     "text": [
      "1/1 [==============================] - 0s 68ms/step\n",
      "          prediction     actual\n",
      "80+70:    151.16982      150\n",
      "50+30:    81.179794      80\n",
      "90+100:   191.15927      190\n"
     ]
    }
   ],
   "source": [
    "new_input = np.array([[80, 70], [50, 30], [90, 100]])\n",
    "predictions = model.predict(new_input)\n",
    "print(\"{:<10s}{:<15s}{}\".format(\" \", \"prediction\", \"actual\"))\n",
    "for i in range(len(predictions)):\n",
    "    x, y = new_input[i]\n",
    "    predicted_val = predictions[i][0]\n",
    "    actual_val = x + y\n",
    "    print(\"{:<10s}{:<15s}{}\".format(str(x) + \"+\" + str(y) + \":\", str(predicted_val), str(actual_val)))"
   ]
  },
  {
   "cell_type": "markdown",
   "metadata": {},
   "source": [
    "Evaluating the Ultimate AI that we just made!!!!!"
   ]
  },
  {
   "cell_type": "code",
   "execution_count": 11,
   "metadata": {},
   "outputs": [
    {
     "name": "stdout",
     "output_type": "stream",
     "text": [
      "32/32 [==============================] - 0s 787us/step - loss: 63.8988\n"
     ]
    },
    {
     "data": {
      "text/plain": [
       "63.89881896972656"
      ]
     },
     "execution_count": 11,
     "metadata": {},
     "output_type": "execute_result"
    }
   ],
   "source": [
    "model.evaluate(input_list_test, output_list_test)"
   ]
  },
  {
   "cell_type": "markdown",
   "metadata": {},
   "source": [
    "Check if this model is already exported, if not export it"
   ]
  },
  {
   "cell_type": "code",
   "execution_count": 12,
   "metadata": {},
   "outputs": [
    {
     "name": "stdout",
     "output_type": "stream",
     "text": [
      "c:\\Users\\marti\\Desktop\\PythonProjects\\simplePythonAI\\preTrainedModels\\NN-Sum.pkl\n",
      "True\n"
     ]
    }
   ],
   "source": [
    "import pickle\n",
    "import os\n",
    "\n",
    "pkFile = os.path.join(os.path.dirname(os.getcwd()), r\"preTrainedModels\\NN-Sum.pkl\")\n",
    "print(pkFile)\n",
    "print(os.path.exists(pkFile))\n",
    "with open(pkFile, 'wb') as f:\n",
    "    pickle.dump(model, f)"
   ]
  },
  {
   "cell_type": "code",
   "execution_count": 13,
   "metadata": {},
   "outputs": [
    {
     "name": "stdout",
     "output_type": "stream",
     "text": [
      "data type<class 'keras.engine.sequential.Sequential'>\n",
      "1/1 [==============================] - 0s 45ms/step\n",
      "[[31.177683]]\n"
     ]
    }
   ],
   "source": [
    "with open(pkFile, \"rb\") as f:\n",
    "    data = pickle.load(f)\n",
    "    print(\"data type\"+str(type(data)))\n",
    "    numbers = np.array([[15, 15]])\n",
    "    prediction = data.predict(numbers)\n",
    "    print(prediction)"
   ]
  }
 ],
 "metadata": {
  "kernelspec": {
   "display_name": "Python 3.11.2 ('.venv': venv)",
   "language": "python",
   "name": "python3"
  },
  "language_info": {
   "codemirror_mode": {
    "name": "ipython",
    "version": 3
   },
   "file_extension": ".py",
   "mimetype": "text/x-python",
   "name": "python",
   "nbconvert_exporter": "python",
   "pygments_lexer": "ipython3",
   "version": "3.11.2"
  },
  "orig_nbformat": 4,
  "vscode": {
   "interpreter": {
    "hash": "f70f9ddedb52fef0ee971ecfe5a171ef0058ae3566f8f51b92b01bb1117eedf0"
   }
  }
 },
 "nbformat": 4,
 "nbformat_minor": 2
}
