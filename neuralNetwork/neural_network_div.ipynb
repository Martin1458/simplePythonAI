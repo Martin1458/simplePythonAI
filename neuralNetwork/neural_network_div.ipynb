{
 "cells": [
  {
   "attachments": {},
   "cell_type": "markdown",
   "metadata": {},
   "source": [
    "Import important modules"
   ]
  },
  {
   "cell_type": "code",
   "execution_count": 1,
   "metadata": {},
   "outputs": [],
   "source": [
    "import os\n",
    "os.environ['TF_CPP_MIN_LOG_LEVEL'] = \"2\"\n",
    "import numpy as np\n",
    "import tensorflow as tf\n",
    "from sklearn.model_selection import train_test_split"
   ]
  },
  {
   "attachments": {},
   "cell_type": "markdown",
   "metadata": {},
   "source": [
    "Creating data"
   ]
  },
  {
   "cell_type": "code",
   "execution_count": 2,
   "metadata": {},
   "outputs": [],
   "source": [
    "input_list = np.random.randint(0, 40000, (5000, 2))\n",
    "\n",
    "output_list = input_list[:, 0] / input_list[:, 1]\n",
    "\n",
    "# reshape the result array to a column vector\n",
    "output_list = output_list.reshape(-1, 1)"
   ]
  },
  {
   "attachments": {},
   "cell_type": "markdown",
   "metadata": {},
   "source": [
    "Splitting data into training and testing"
   ]
  },
  {
   "cell_type": "code",
   "execution_count": 3,
   "metadata": {},
   "outputs": [],
   "source": [
    "input_list_train, input_list_test, output_list_train, output_list_test = train_test_split(input_list, output_list, test_size=0.2)"
   ]
  },
  {
   "attachments": {},
   "cell_type": "markdown",
   "metadata": {},
   "source": [
    "Defining keras model"
   ]
  },
  {
   "cell_type": "code",
   "execution_count": 4,
   "metadata": {},
   "outputs": [],
   "source": [
    "model = tf.keras.Sequential([\n",
    "    tf.keras.layers.Dense(16, activation='relu', input_shape=(2,)),\n",
    "    tf.keras.layers.Dense(16, activation='relu'),\n",
    "    tf.keras.layers.Dense(1)\n",
    "])"
   ]
  },
  {
   "attachments": {},
   "cell_type": "markdown",
   "metadata": {},
   "source": [
    "Compiling the model"
   ]
  },
  {
   "cell_type": "code",
   "execution_count": 5,
   "metadata": {},
   "outputs": [],
   "source": [
    "model.compile(optimizer='adam', loss='mean_squared_error')"
   ]
  },
  {
   "attachments": {},
   "cell_type": "markdown",
   "metadata": {},
   "source": [
    "Training the model"
   ]
  },
  {
   "cell_type": "code",
   "execution_count": 6,
   "metadata": {},
   "outputs": [
    {
     "name": "stdout",
     "output_type": "stream",
     "text": [
      "Epoch 1/6\n",
      "1250/1250 [==============================] - 5s 2ms/step - loss: 435966.8125\n",
      "Epoch 2/6\n",
      "1250/1250 [==============================] - 3s 2ms/step - loss: 3975.1736\n",
      "Epoch 3/6\n",
      "1250/1250 [==============================] - 3s 2ms/step - loss: 4403.8794\n",
      "Epoch 4/6\n",
      "1250/1250 [==============================] - 3s 2ms/step - loss: 4681.0400\n",
      "Epoch 5/6\n",
      "1250/1250 [==============================] - 3s 2ms/step - loss: 5468.5718\n",
      "Epoch 6/6\n",
      "1250/1250 [==============================] - 3s 2ms/step - loss: 5695.9082\n"
     ]
    }
   ],
   "source": [
    "fitValues = model.fit(input_list, output_list, epochs=6, batch_size=4)"
   ]
  },
  {
   "attachments": {},
   "cell_type": "markdown",
   "metadata": {},
   "source": [
    "Create a plot from the training losses x epoch"
   ]
  },
  {
   "cell_type": "code",
   "execution_count": 7,
   "metadata": {},
   "outputs": [
    {
     "data": {
      "image/png": "[encoded data removed]",
      "text/plain": [
       "<Figure size 640x480 with 1 Axes>"
      ]
     },
     "metadata": {},
     "output_type": "display_data"
    },
    {
     "name": "stdout",
     "output_type": "stream",
     "text": [
      "[435966.8125, 3975.173583984375, 4403.87939453125, 4681.0400390625, 5468.57177734375, 5695.908203125]\n"
     ]
    }
   ],
   "source": [
    "import matplotlib.pyplot as plt\n",
    "import numpy as np\n",
    "import math\n",
    "\n",
    "y = [math.log(i, 10) for i in list(fitValues.history[\"loss\"])]\n",
    "x = [i for i in range(len(list(y)))]\n",
    "\n",
    "fig, ax = plt.subplots()\n",
    "ax.plot(x, y)\n",
    "plt.show()\n",
    "print(fitValues.history[\"loss\"])"
   ]
  },
  {
   "attachments": {},
   "cell_type": "markdown",
   "metadata": {},
   "source": [
    "Making predictions with our new model"
   ]
  },
  {
   "cell_type": "code",
   "execution_count": 15,
   "metadata": {},
   "outputs": [
    {
     "name": "stdout",
     "output_type": "stream",
     "text": [
      "1/1 [==============================] - 0s 70ms/step\n",
      "          prediction     actual\n",
      "80/70:    0.0900013      1.1428571428571428\n",
      "50/30:    0.21999045     1.6666666666666667\n",
      "90/100:   0.14345093     0.9\n"
     ]
    }
   ],
   "source": [
    "new_input = np.array([[80, 70], [50, 30], [90, 100]])\n",
    "predictions = model.predict(new_input)\n",
    "print(\"{:<10s}{:<15s}{}\".format(\" \", \"prediction\", \"actual\"))\n",
    "for i in range(len(predictions)):\n",
    "    x, y = new_input[i]\n",
    "    predicted_val = predictions[i][0]\n",
    "    actual_val = x / y\n",
    "    print(\"{:<10s}{:<15s}{}\".format(str(x) + \"/\" + str(y) + \":\", str(predicted_val), str(actual_val)))"
   ]
  },
  {
   "attachments": {},
   "cell_type": "markdown",
   "metadata": {},
   "source": [
    "Evaluating the Ultimate AI that we just made!!!!!"
   ]
  },
  {
   "cell_type": "code",
   "execution_count": 16,
   "metadata": {},
   "outputs": [
    {
     "name": "stdout",
     "output_type": "stream",
     "text": [
      "32/32 [==============================] - 0s 772us/step - loss: 925.1250\n",
      "score:0.001079767849912269\n"
     ]
    }
   ],
   "source": [
    "loss = model.evaluate(input_list_test, output_list_test)\n",
    "score = 1 / (1 + loss)  # Convert the loss to a score\n",
    "print(\"score:\" + str(score))"
   ]
  },
  {
   "attachments": {},
   "cell_type": "markdown",
   "metadata": {},
   "source": [
    "Check if this model is already exported, if not export it"
   ]
  },
  {
   "cell_type": "code",
   "execution_count": 8,
   "metadata": {},
   "outputs": [
    {
     "name": "stdout",
     "output_type": "stream",
     "text": [
      "oneUp: /home/martin/Desktop/simplePythonAI\n",
      "preModels: /home/martin/Desktop/simplePythonAI/preTrainedModels\n",
      "pkFile /home/martin/Desktop/simplePythonAI/preTrainedModels/NN-Div.pkl\n"
     ]
    }
   ],
   "source": [
    "import pickle\n",
    "import os\n",
    "import pathlib\n",
    "\n",
    "oneUp = pathlib.Path(os.path.dirname(os.path.dirname(os.path.abspath('__file__'))))\n",
    "print(\"oneUp:\", oneUp)\n",
    "\n",
    "preModels = pathlib.Path(oneUp.joinpath('preTrainedModels'))\n",
    "preModels.mkdir(parents=True, exist_ok=True) #If preModels dosent exist, create it\n",
    "print(\"preModels:\", preModels)\n",
    "\n",
    "pkFile = oneUp.joinpath(preModels).joinpath(\"NN-Div.pkl\")\n",
    "pkFile = pathlib.Path(preModels.joinpath(\"NN-Div.pkl\"))\n",
    "print(\"pkFile\", pkFile)\n",
    "\n",
    "with pkFile.open('w+b') as f: # 'w' = write, '+' = create file if non existant, 'b' = write in binary\n",
    "    pickle.dump(model, f)"
   ]
  },
  {
   "cell_type": "code",
   "execution_count": 9,
   "metadata": {},
   "outputs": [
    {
     "name": "stdout",
     "output_type": "stream",
     "text": [
      "data type<class 'keras.engine.sequential.Sequential'>\n",
      "1/1 [==============================] - 0s 62ms/step\n",
      "[[0.24775293]]\n"
     ]
    }
   ],
   "source": [
    "with open(pkFile, \"rb\") as f:\n",
    "    data = pickle.load(f)\n",
    "    print(\"data type\"+str(type(data)))\n",
    "    numbers = np.array([[15, 15]])\n",
    "    prediction = data.predict(numbers)\n",
    "    print(prediction)"
   ]
  }
 ],
 "metadata": {
  "kernelspec": {
   "display_name": "Python 3.11.2 ('.venv': venv)",
   "language": "python",
   "name": "python3"
  },
  "language_info": {
   "codemirror_mode": {
    "name": "ipython",
    "version": 3
   },
   "file_extension": ".py",
   "mimetype": "text/x-python",
   "name": "python",
   "nbconvert_exporter": "python",
   "pygments_lexer": "ipython3",
   "version": "3.11.3"
  },
  "orig_nbformat": 4,
  "vscode": {
   "interpreter": {
    "hash": "f70f9ddedb52fef0ee971ecfe5a171ef0058ae3566f8f51b92b01bb1117eedf0"
   }
  }
 },
 "nbformat": 4,
 "nbformat_minor": 2
}
