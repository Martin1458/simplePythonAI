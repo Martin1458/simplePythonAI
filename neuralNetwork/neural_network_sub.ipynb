{
 "cells": [
  {
   "attachments": {},
   "cell_type": "markdown",
   "metadata": {},
   "source": [
    "Import important modules"
   ]
  },
  {
   "cell_type": "code",
   "execution_count": 8,
   "metadata": {},
   "outputs": [],
   "source": [
    "import os\n",
    "os.environ['TF_CPP_MIN_LOG_LEVEL'] = \"2\"\n",
    "import numpy as np\n",
    "import tensorflow as tf\n",
    "from sklearn.model_selection import train_test_split"
   ]
  },
  {
   "attachments": {},
   "cell_type": "markdown",
   "metadata": {},
   "source": [
    "Creating data"
   ]
  },
  {
   "cell_type": "code",
   "execution_count": 9,
   "metadata": {},
   "outputs": [],
   "source": [
    "input_list = np.random.randint(0, 40000, (5000, 2))\n",
    "\n",
    "sum_input_list = np.sum(input_list, axis=1)\n",
    "\n",
    "#output_list = np.array([[sum_input_list[i]] for i in range(sum_input_list.shape[0])])\n",
    "\n",
    "output_list = input_list[:, 0] - input_list[:, 1]\n",
    "\n",
    "# Reshape the result array to a column vector\n",
    "output_list = output_list.reshape(-1, 1)"
   ]
  },
  {
   "attachments": {},
   "cell_type": "markdown",
   "metadata": {},
   "source": [
    "Splitting data into training and testing"
   ]
  },
  {
   "cell_type": "code",
   "execution_count": 10,
   "metadata": {},
   "outputs": [],
   "source": [
    "input_list_train, input_list_test, output_list_train, output_list_test = train_test_split(input_list, output_list, test_size=0.2)"
   ]
  },
  {
   "attachments": {},
   "cell_type": "markdown",
   "metadata": {},
   "source": [
    "Defining keras model"
   ]
  },
  {
   "cell_type": "code",
   "execution_count": 11,
   "metadata": {},
   "outputs": [],
   "source": [
    "model = tf.keras.Sequential([\n",
    "    tf.keras.layers.Dense(16, activation='relu', input_shape=(2,)),\n",
    "    tf.keras.layers.Dense(16, activation='relu'),\n",
    "    tf.keras.layers.Dense(1)\n",
    "])"
   ]
  },
  {
   "attachments": {},
   "cell_type": "markdown",
   "metadata": {},
   "source": [
    "Compiling the model"
   ]
  },
  {
   "cell_type": "code",
   "execution_count": 12,
   "metadata": {},
   "outputs": [],
   "source": [
    "model.compile(optimizer='adam', loss='mean_squared_error')"
   ]
  },
  {
   "attachments": {},
   "cell_type": "markdown",
   "metadata": {},
   "source": [
    "Training the model"
   ]
  },
  {
   "cell_type": "code",
   "execution_count": 13,
   "metadata": {},
   "outputs": [
    {
     "name": "stdout",
     "output_type": "stream",
     "text": [
      "Epoch 1/6\n",
      "1250/1250 [==============================] - 3s 2ms/step - loss: 22776422.0000\n",
      "Epoch 2/6\n",
      "1250/1250 [==============================] - 4s 3ms/step - loss: 25412.4004\n",
      "Epoch 3/6\n",
      "1250/1250 [==============================] - 3s 2ms/step - loss: 4066.3572\n",
      "Epoch 4/6\n",
      "1250/1250 [==============================] - 3s 2ms/step - loss: 2536.9587\n",
      "Epoch 5/6\n",
      "1250/1250 [==============================] - 3s 2ms/step - loss: 6305.8921\n",
      "Epoch 6/6\n",
      "1250/1250 [==============================] - 3s 2ms/step - loss: 7015.1118\n"
     ]
    }
   ],
   "source": [
    "fitValues = model.fit(input_list, output_list, epochs=6, batch_size=4)"
   ]
  },
  {
   "attachments": {},
   "cell_type": "markdown",
   "metadata": {},
   "source": [
    "Create a plot from the training losses x epoch"
   ]
  },
  {
   "cell_type": "code",
   "execution_count": 7,
   "metadata": {},
   "outputs": [
    {
     "data": {
      "image/png": "[encoded data removed]",
      "text/plain": [
       "<Figure size 640x480 with 1 Axes>"
      ]
     },
     "metadata": {},
     "output_type": "display_data"
    },
    {
     "name": "stdout",
     "output_type": "stream",
     "text": [
      "[12268700.0, 21860.486328125, 10367.4853515625, 4991.42919921875, 3398.860107421875, 8208.0322265625]\n"
     ]
    }
   ],
   "source": [
    "import matplotlib.pyplot as plt\n",
    "import numpy as np\n",
    "import math\n",
    "\n",
    "y = [math.log(i, 10) for i in list(fitValues.history[\"loss\"])]\n",
    "x = [i for i in range(len(list(y)))]\n",
    "\n",
    "fig, ax = plt.subplots()\n",
    "ax.plot(x, y)\n",
    "plt.show()\n",
    "print(fitValues.history[\"loss\"])"
   ]
  },
  {
   "attachments": {},
   "cell_type": "markdown",
   "metadata": {},
   "source": [
    "Making predictions with our new model"
   ]
  },
  {
   "cell_type": "code",
   "execution_count": 8,
   "metadata": {},
   "outputs": [
    {
     "name": "stdout",
     "output_type": "stream",
     "text": [
      "1/1 [==============================] - 0s 70ms/step\n",
      "          prediction     actual\n",
      "80-70:    10.183656      10\n",
      "50-30:    20.194124      20\n",
      "90-100:   -9.825051      -10\n"
     ]
    }
   ],
   "source": [
    "new_input = np.array([[80, 70], [50, 30], [90, 100]])\n",
    "predictions = model.predict(new_input)\n",
    "print(\"{:<10s}{:<15s}{}\".format(\" \", \"prediction\", \"actual\"))\n",
    "for i in range(len(predictions)):\n",
    "    x, y = new_input[i]\n",
    "    predicted_val = predictions[i][0]\n",
    "    actual_val = x - y\n",
    "    print(\"{:<10s}{:<15s}{}\".format(str(x) + \"-\" + str(y) + \":\", str(predicted_val), str(actual_val)))"
   ]
  },
  {
   "attachments": {},
   "cell_type": "markdown",
   "metadata": {},
   "source": [
    "Evaluating the Ultimate AI that we just made!!!!!"
   ]
  },
  {
   "cell_type": "code",
   "execution_count": 9,
   "metadata": {},
   "outputs": [
    {
     "name": "stdout",
     "output_type": "stream",
     "text": [
      "32/32 [==============================] - 0s 804us/step - loss: 49.3845\n"
     ]
    },
    {
     "data": {
      "text/plain": [
       "49.38454055786133"
      ]
     },
     "execution_count": 9,
     "metadata": {},
     "output_type": "execute_result"
    }
   ],
   "source": [
    "model.evaluate(input_list_test, output_list_test)"
   ]
  },
  {
   "attachments": {},
   "cell_type": "markdown",
   "metadata": {},
   "source": [
    "Check if this model is already exported, if not export it"
   ]
  },
  {
   "cell_type": "code",
   "execution_count": 10,
   "metadata": {},
   "outputs": [
    {
     "name": "stdout",
     "output_type": "stream",
     "text": [
      "c:\\Users\\marti\\Desktop\\PythonProjects\\simplePythonAI\\preTrainedModels\\NN-Sub.pkl\n",
      "True\n"
     ]
    }
   ],
   "source": [
    "import pickle\n",
    "import os\n",
    "import pathlib\n",
    "\n",
    "oneUp = pathlib.Path(os.path.dirname(os.path.dirname(os.path.abspath('__file__'))))\n",
    "print(\"oneUp:\", oneUp)\n",
    "\n",
    "preModels = pathlib.Path(oneUp.joinpath('preTrainedModels'))\n",
    "preModels.mkdir(parents=True, exist_ok=True) #If preModels dosent exist, create it\n",
    "print(\"preModels:\", preModels)\n",
    "\n",
    "pkFile = oneUp.joinpath(preModels).joinpath(\"NN-Sub.pkl\")\n",
    "pkFile = pathlib.Path(preModels.joinpath(\"NN-Sub.pkl\"))\n",
    "print(\"pkFile\", pkFile)\n",
    "\n",
    "with pkFile.open('w+b') as f: # 'w' = write, '+' = create file if non existant, 'b' = write in binary\n",
    "    pickle.dump(model, f)"
   ]
  },
  {
   "cell_type": "code",
   "execution_count": 11,
   "metadata": {},
   "outputs": [
    {
     "name": "stdout",
     "output_type": "stream",
     "text": [
      "data type<class 'keras.engine.sequential.Sequential'>\n",
      "1/1 [==============================] - 0s 43ms/step\n",
      "[[0.19639757]]\n"
     ]
    }
   ],
   "source": [
    "with open(pkFile, \"rb\") as f:\n",
    "    data = pickle.load(f)\n",
    "    print(\"data type\"+str(type(data)))\n",
    "    numbers = np.array([[15, 15]])\n",
    "    prediction = data.predict(numbers)\n",
    "    print(prediction)"
   ]
  }
 ],
 "metadata": {
  "kernelspec": {
   "display_name": "Python 3.11.2 ('.venv': venv)",
   "language": "python",
   "name": "python3"
  },
  "language_info": {
   "codemirror_mode": {
    "name": "ipython",
    "version": 3
   },
   "file_extension": ".py",
   "mimetype": "text/x-python",
   "name": "python",
   "nbconvert_exporter": "python",
   "pygments_lexer": "ipython3",
   "version": "3.11.3"
  },
  "orig_nbformat": 4,
  "vscode": {
   "interpreter": {
    "hash": "f70f9ddedb52fef0ee971ecfe5a171ef0058ae3566f8f51b92b01bb1117eedf0"
   }
  }
 },
 "nbformat": 4,
 "nbformat_minor": 2
}
