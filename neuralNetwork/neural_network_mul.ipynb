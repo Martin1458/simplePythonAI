{
 "cells": [
  {
   "cell_type": "markdown",
   "metadata": {},
   "source": [
    "Import important modules"
   ]
  },
  {
   "cell_type": "code",
   "execution_count": 7,
   "metadata": {},
   "outputs": [],
   "source": [
    "import numpy as np\n",
    "import tensorflow as tf\n",
    "from sklearn.model_selection import train_test_split"
   ]
  },
  {
   "cell_type": "markdown",
   "metadata": {},
   "source": [
    "Creating data"
   ]
  },
  {
   "cell_type": "code",
   "execution_count": 8,
   "metadata": {},
   "outputs": [],
   "source": [
    "input_list = np.random.randint(0, 40000, (5000, 2))\n",
    "\n",
    "output_list = input_list[:, 0] * input_list[:, 1]\n",
    "\n",
    "# reshape the result array to a column vector\n",
    "output_list = output_list.reshape(-1, 1)"
   ]
  },
  {
   "cell_type": "markdown",
   "metadata": {},
   "source": [
    "Splitting data into training and testing"
   ]
  },
  {
   "cell_type": "code",
   "execution_count": 9,
   "metadata": {},
   "outputs": [],
   "source": [
    "input_list_train, input_list_test, output_list_train, output_list_test = train_test_split(input_list, output_list, test_size=0.2)"
   ]
  },
  {
   "cell_type": "markdown",
   "metadata": {},
   "source": [
    "Defining keras model"
   ]
  },
  {
   "cell_type": "code",
   "execution_count": 10,
   "metadata": {},
   "outputs": [],
   "source": [
    "model = tf.keras.Sequential([\n",
    "    tf.keras.layers.Dense(16, activation='relu', input_shape=(2,)),\n",
    "    tf.keras.layers.Dense(16, activation='relu'),\n",
    "    tf.keras.layers.Dense(1)\n",
    "])"
   ]
  },
  {
   "cell_type": "markdown",
   "metadata": {},
   "source": [
    "Compiling the model"
   ]
  },
  {
   "cell_type": "code",
   "execution_count": 11,
   "metadata": {},
   "outputs": [],
   "source": [
    "model.compile(optimizer='adam', loss='mean_squared_error')"
   ]
  },
  {
   "cell_type": "markdown",
   "metadata": {},
   "source": [
    "Training the model"
   ]
  },
  {
   "cell_type": "code",
   "execution_count": 12,
   "metadata": {},
   "outputs": [
    {
     "name": "stdout",
     "output_type": "stream",
     "text": [
      "Epoch 1/6\n",
      "1250/1250 [==============================] - 2s 880us/step - loss: 267683527485554688.0000\n",
      "Epoch 2/6\n",
      "1250/1250 [==============================] - 1s 848us/step - loss: 192613907242680320.0000\n",
      "Epoch 3/6\n",
      "1250/1250 [==============================] - 1s 873us/step - loss: 83143892471382016.0000\n",
      "Epoch 4/6\n",
      "1250/1250 [==============================] - 1s 849us/step - loss: 42322869727789056.0000\n",
      "Epoch 5/6\n",
      "1250/1250 [==============================] - 1s 830us/step - loss: 38965515267342336.0000\n",
      "Epoch 6/6\n",
      "1250/1250 [==============================] - 1s 850us/step - loss: 38883219398983680.0000\n"
     ]
    },
    {
     "data": {
      "text/plain": [
       "<keras.callbacks.History at 0x2d9049fc9d0>"
      ]
     },
     "execution_count": 12,
     "metadata": {},
     "output_type": "execute_result"
    }
   ],
   "source": [
    "model.fit(input_list, output_list, epochs=6, batch_size=4)"
   ]
  },
  {
   "cell_type": "markdown",
   "metadata": {},
   "source": [
    "Making predictions with our new model"
   ]
  },
  {
   "cell_type": "code",
   "execution_count": 13,
   "metadata": {},
   "outputs": [
    {
     "name": "stdout",
     "output_type": "stream",
     "text": [
      "1/1 [==============================] - 0s 97ms/step\n",
      "          prediction     actual\n",
      "80*70:    1716213.8      5600\n",
      "50*30:    919212.5       1500\n",
      "90*100:   2171258.8      9000\n"
     ]
    }
   ],
   "source": [
    "new_input = np.array([[80, 70], [50, 30], [90, 100]])\n",
    "predictions = model.predict(new_input)\n",
    "print(\"{:<10s}{:<15s}{}\".format(\" \", \"prediction\", \"actual\"))\n",
    "for i in range(len(predictions)):\n",
    "    x, y = new_input[i]\n",
    "    predicted_val = predictions[i][0]\n",
    "    actual_val = x * y\n",
    "    print(\"{:<10s}{:<15s}{}\".format(str(x) + \"*\" + str(y) + \":\", str(predicted_val), str(actual_val)))"
   ]
  },
  {
   "cell_type": "markdown",
   "metadata": {},
   "source": [
    "Evaluating the Ultimate AI that we just made!!!!!"
   ]
  },
  {
   "cell_type": "code",
   "execution_count": 14,
   "metadata": {},
   "outputs": [
    {
     "name": "stdout",
     "output_type": "stream",
     "text": [
      "32/32 [==============================] - 0s 804us/step - loss: 38068842060054528.0000\n",
      "score:2.62682011294821e-17\n"
     ]
    }
   ],
   "source": [
    "loss = model.evaluate(input_list_test, output_list_test)\n",
    "score = 1 / (1 + loss)  # Convert the loss to a score\n",
    "print(\"score:\" + str(score))"
   ]
  },
  {
   "cell_type": "markdown",
   "metadata": {},
   "source": [
    "Check if this model is already exported, if not export it"
   ]
  },
  {
   "cell_type": "code",
   "execution_count": 15,
   "metadata": {},
   "outputs": [
    {
     "name": "stdout",
     "output_type": "stream",
     "text": [
      "c:\\Users\\marti\\Desktop\\PythonProjects\\simplePythonAI\\preTrainedModels\\NN-Mul.pkl\n",
      "True\n"
     ]
    }
   ],
   "source": [
    "import pickle\n",
    "import os\n",
    "import pathlib\n",
    "\n",
    "oneUp = pathlib.Path(os.path.dirname(os.path.dirname(os.path.abspath('__file__'))))\n",
    "preModels = pathlib.Path('preTrainedModels')\n",
    "pkFile = oneUp.joinpath(preModels).joinpath(\"NN-Mul.pkl\")\n",
    "print(pkFile)\n",
    "#pkFile = os.path.join(os.path.dirname(os.getcwd()), r\"preTrainedModels\\NN-Sum.pkl\")\n",
    "print(os.path.exists(pkFile))\n",
    "with open(pkFile, 'wb') as f:\n",
    "    pickle.dump(model, f)"
   ]
  },
  {
   "cell_type": "code",
   "execution_count": 16,
   "metadata": {},
   "outputs": [
    {
     "name": "stdout",
     "output_type": "stream",
     "text": [
      "data type<class 'keras.engine.sequential.Sequential'>\n",
      "1/1 [==============================] - 0s 47ms/step\n",
      "[[349195.84]]\n"
     ]
    }
   ],
   "source": [
    "with open(pkFile, \"rb\") as f:\n",
    "    data = pickle.load(f)\n",
    "    print(\"data type\"+str(type(data)))\n",
    "    numbers = np.array([[15, 15]])\n",
    "    prediction = data.predict(numbers)\n",
    "    print(prediction)"
   ]
  }
 ],
 "metadata": {
  "kernelspec": {
   "display_name": "Python 3.11.2 ('.venv': venv)",
   "language": "python",
   "name": "python3"
  },
  "language_info": {
   "codemirror_mode": {
    "name": "ipython",
    "version": 3
   },
   "file_extension": ".py",
   "mimetype": "text/x-python",
   "name": "python",
   "nbconvert_exporter": "python",
   "pygments_lexer": "ipython3",
   "version": "3.11.2"
  },
  "orig_nbformat": 4,
  "vscode": {
   "interpreter": {
    "hash": "f70f9ddedb52fef0ee971ecfe5a171ef0058ae3566f8f51b92b01bb1117eedf0"
   }
  }
 },
 "nbformat": 4,
 "nbformat_minor": 2
}
