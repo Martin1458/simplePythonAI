{
 "cells": [
  {
   "cell_type": "markdown",
   "metadata": {},
   "source": [
    "Import important modules"
   ]
  },
  {
   "cell_type": "code",
   "execution_count": 58,
   "metadata": {},
   "outputs": [],
   "source": [
    "import numpy as np\n",
    "import tensorflow as tf\n",
    "from sklearn.model_selection import train_test_split"
   ]
  },
  {
   "cell_type": "markdown",
   "metadata": {},
   "source": [
    "Creating data"
   ]
  },
  {
   "cell_type": "code",
   "execution_count": 59,
   "metadata": {},
   "outputs": [],
   "source": [
    "input_list = np.random.randint(0, 4, (5000, 2))\n",
    "\n",
    "sum_input_list = np.sum(input_list, axis=1)\n",
    "\n",
    "output_list = np.array([[sum_input_list[i]] for i in range(sum_input_list.shape[0])])"
   ]
  },
  {
   "cell_type": "markdown",
   "metadata": {},
   "source": [
    "Splitting data into training and testing"
   ]
  },
  {
   "cell_type": "code",
   "execution_count": 60,
   "metadata": {},
   "outputs": [],
   "source": [
    "input_list_train, input_list_test, output_list_train, output_list_test = train_test_split(input_list, output_list, test_size=0.2)"
   ]
  },
  {
   "cell_type": "markdown",
   "metadata": {},
   "source": [
    "Defining keras model"
   ]
  },
  {
   "cell_type": "code",
   "execution_count": 61,
   "metadata": {},
   "outputs": [],
   "source": [
    "model = tf.keras.Sequential([\n",
    "    tf.keras.layers.Dense(16, activation='relu', input_shape=(2,)),\n",
    "    tf.keras.layers.Dense(16, activation='relu'),\n",
    "    tf.keras.layers.Dense(1)\n",
    "])"
   ]
  },
  {
   "cell_type": "markdown",
   "metadata": {},
   "source": [
    "Compiling the model"
   ]
  },
  {
   "cell_type": "code",
   "execution_count": 62,
   "metadata": {},
   "outputs": [],
   "source": [
    "model.compile(optimizer='adam', loss='mean_squared_error')"
   ]
  },
  {
   "cell_type": "markdown",
   "metadata": {},
   "source": [
    "Training the model"
   ]
  },
  {
   "cell_type": "code",
   "execution_count": 63,
   "metadata": {},
   "outputs": [
    {
     "name": "stdout",
     "output_type": "stream",
     "text": [
      "Epoch 1/10\n",
      "1250/1250 [==============================] - 1s 780us/step - loss: 0.5358\n",
      "Epoch 2/10\n",
      "1250/1250 [==============================] - 1s 770us/step - loss: 1.2853e-04\n",
      "Epoch 3/10\n",
      "1250/1250 [==============================] - 1s 779us/step - loss: 2.5161e-05\n",
      "Epoch 4/10\n",
      "1250/1250 [==============================] - 1s 775us/step - loss: 7.5256e-06\n",
      "Epoch 5/10\n",
      "1250/1250 [==============================] - 1s 767us/step - loss: 2.1532e-05\n",
      "Epoch 6/10\n",
      "1250/1250 [==============================] - 1s 779us/step - loss: 4.1102e-05\n",
      "Epoch 7/10\n",
      "1250/1250 [==============================] - 1s 770us/step - loss: 5.3802e-05\n",
      "Epoch 8/10\n",
      "1250/1250 [==============================] - 1s 768us/step - loss: 1.1265e-04\n",
      "Epoch 9/10\n",
      "1250/1250 [==============================] - 1s 771us/step - loss: 1.0539e-04\n",
      "Epoch 10/10\n",
      "1250/1250 [==============================] - 1s 764us/step - loss: 6.2959e-05\n"
     ]
    },
    {
     "data": {
      "text/plain": [
       "<keras.callbacks.History at 0x17e765721f0>"
      ]
     },
     "execution_count": 63,
     "metadata": {},
     "output_type": "execute_result"
    }
   ],
   "source": [
    "model.fit(input_list, output_list, epochs=10, batch_size=4)"
   ]
  },
  {
   "cell_type": "markdown",
   "metadata": {},
   "source": [
    "Making predictions with our new model"
   ]
  },
  {
   "cell_type": "code",
   "execution_count": 68,
   "metadata": {},
   "outputs": [
    {
     "name": "stdout",
     "output_type": "stream",
     "text": [
      "1/1 [==============================] - 0s 23ms/step\n",
      "          prediction     actual\n",
      "80+70:    135.88083      150\n",
      "50+30:    72.19201       80\n",
      "90+100:   174.57039      190\n"
     ]
    }
   ],
   "source": [
    "new_input = np.array([[80, 70], [50, 30], [90, 100]])\n",
    "predictions = model.predict(new_input)\n",
    "print(\"{:<10s}{:<15s}{}\".format(\" \", \"prediction\", \"actual\"))\n",
    "for prediction in range(len(predictions)):\n",
    "    print(\"{:<10s}{:<15s}{}\".format(str(new_input[prediction][0])+\"+\"+str(new_input[prediction][1])+\":\", str(predictions[prediction][0]), np.sum(new_input[prediction])))"
   ]
  },
  {
   "cell_type": "markdown",
   "metadata": {},
   "source": [
    "Evaluating the Ultimate AI that we just made!!!!!"
   ]
  },
  {
   "cell_type": "code",
   "execution_count": 65,
   "metadata": {},
   "outputs": [
    {
     "name": "stdout",
     "output_type": "stream",
     "text": [
      "32/32 [==============================] - 0s 676us/step - loss: 2.5391e-07\n"
     ]
    },
    {
     "data": {
      "text/plain": [
       "2.539094623443816e-07"
      ]
     },
     "execution_count": 65,
     "metadata": {},
     "output_type": "execute_result"
    }
   ],
   "source": [
    "model.evaluate(input_list_test, output_list_test)"
   ]
  },
  {
   "cell_type": "code",
   "execution_count": 66,
   "metadata": {},
   "outputs": [
    {
     "name": "stdout",
     "output_type": "stream",
     "text": [
      "Hello     world\n"
     ]
    }
   ],
   "source": [
    "print(\"{:<10s}{}\".format(\"Hello\", \"world\"))\n"
   ]
  }
 ],
 "metadata": {
  "kernelspec": {
   "display_name": "Python 3.9.13 ('base')",
   "language": "python",
   "name": "python3"
  },
  "language_info": {
   "codemirror_mode": {
    "name": "ipython",
    "version": 3
   },
   "file_extension": ".py",
   "mimetype": "text/x-python",
   "name": "python",
   "nbconvert_exporter": "python",
   "pygments_lexer": "ipython3",
   "version": "3.9.13"
  },
  "orig_nbformat": 4,
  "vscode": {
   "interpreter": {
    "hash": "0cbdb2da9dbe0d2dea10ff6d0781d52b5c29396ff67f0b41141e479dd37f1da4"
   }
  }
 },
 "nbformat": 4,
 "nbformat_minor": 2
}
